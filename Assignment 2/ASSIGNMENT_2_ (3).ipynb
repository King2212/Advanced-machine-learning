{
  "nbformat": 4,
  "nbformat_minor": 0,
  "metadata": {
    "colab": {
      "provenance": [],
      "machine_shape": "hm"
    },
    "kernelspec": {
      "name": "python3",
      "display_name": "Python 3"
    },
    "language_info": {
      "name": "python"
    },
    "gpuClass": "standard"
  },
  "cells": [
    {
      "cell_type": "code",
      "execution_count": 2,
      "metadata": {
        "colab": {
          "base_uri": "https://localhost:8080/"
        },
        "id": "efGWpxddz6bu",
        "outputId": "36ea3db5-9b8f-4139-e752-ac314049de70"
      },
      "outputs": [
        {
          "output_type": "stream",
          "name": "stdout",
          "text": [
            "Downloading data from https://storage.googleapis.com/tensorflow/tf-keras-datasets/imdb.npz\n",
            "17464789/17464789 [==============================] - 0s 0us/step\n"
          ]
        },
        {
          "output_type": "execute_result",
          "data": {
            "text/plain": [
              "9999"
            ]
          },
          "metadata": {},
          "execution_count": 2
        }
      ],
      "source": [
        "import seaborn as sns\n",
        "import matplotlib.pyplot as plt\n",
        "%matplotlib inline\n",
        "#IMPORTING THE IMDB DATASET\n",
        "from tensorflow.keras.datasets import imdb\n",
        "(train_data, train_labels), (test_data, test_labels) = imdb.load_data(\n",
        "    num_words=10000)\n",
        "train_data[0]\n",
        "train_labels[0]\n",
        "max([max(sequence) for sequence in train_data])\n"
      ]
    },
    {
      "cell_type": "code",
      "source": [
        "word_index = imdb.get_word_index()\n",
        "reverse_word_index = dict(\n",
        "    [(value, key) for (key, value) in word_index.items()])\n",
        "decoded_review = \" \".join(\n",
        "    [reverse_word_index.get(i - 3, \"?\") for i in train_data[0]])\n",
        "     "
      ],
      "metadata": {
        "id": "b3ub-Uh32iQh",
        "colab": {
          "base_uri": "https://localhost:8080/"
        },
        "outputId": "084b2b0f-8ed7-4a93-d525-d667af6cc4ea"
      },
      "execution_count": 3,
      "outputs": [
        {
          "output_type": "stream",
          "name": "stdout",
          "text": [
            "Downloading data from https://storage.googleapis.com/tensorflow/tf-keras-datasets/imdb_word_index.json\n",
            "1641221/1641221 [==============================] - 0s 0us/step\n"
          ]
        }
      ]
    },
    {
      "cell_type": "code",
      "source": [
        "import numpy as np\n",
        "def vectorize_sequences(sequences, dimension=10000):\n",
        "    results = np.zeros((len(sequences), dimension))\n",
        "    for i, sequence in enumerate(sequences):\n",
        "        for j in sequence:\n",
        "            results[i, j] = 1.\n",
        "    return results\n",
        "x_train = vectorize_sequences(train_data)\n",
        "x_test = vectorize_sequences(test_data)\n",
        "x_train[0]\n",
        "y_train = np.asarray(train_labels).astype(\"float32\")\n",
        "y_test = np.asarray(test_labels).astype(\"float32\")\n"
      ],
      "metadata": {
        "id": "qvQeigtN2pYO"
      },
      "execution_count": 4,
      "outputs": []
    },
    {
      "cell_type": "markdown",
      "source": [
        "Model 1 - Hidden layers = 2 , Nodes = 16"
      ],
      "metadata": {
        "id": "lf5I0IOs2x7A"
      }
    },
    {
      "cell_type": "code",
      "source": [
        "\n",
        "from tensorflow import keras\n",
        "from tensorflow.keras import layers\n",
        "\n",
        "model = keras.Sequential([\n",
        "    layers.Dense(16, activation=\"relu\"),\n",
        "    layers.Dense(16, activation=\"relu\"),\n",
        "    layers.Dense(1, activation=\"sigmoid\")\n",
        "])"
      ],
      "metadata": {
        "id": "OytGxvm93KNN"
      },
      "execution_count": 5,
      "outputs": []
    },
    {
      "cell_type": "markdown",
      "source": [
        "COMPILING THE MODEL"
      ],
      "metadata": {
        "id": "TFF09A-A3Umi"
      }
    },
    {
      "cell_type": "code",
      "source": [
        "model.compile(optimizer=\"rmsprop\",\n",
        "              loss=\"binary_crossentropy\",\n",
        "              metrics=[\"accuracy\"])"
      ],
      "metadata": {
        "id": "FmTX-UbY3QP_"
      },
      "execution_count": 6,
      "outputs": []
    },
    {
      "cell_type": "markdown",
      "source": [
        "TRAINING SET AND VALIDATION SET"
      ],
      "metadata": {
        "id": "MjA1SXkQ3f9h"
      }
    },
    {
      "cell_type": "code",
      "source": [
        "x_val = x_train[:10000]\n",
        "partial_x_train = x_train[10000:]\n",
        "y_val = y_train[:10000]\n",
        "partial_y_train = y_train[10000:]\n",
        "     "
      ],
      "metadata": {
        "id": "EcXZveHC3fR6"
      },
      "execution_count": 7,
      "outputs": []
    },
    {
      "cell_type": "markdown",
      "source": [
        "MODEL TRAINING"
      ],
      "metadata": {
        "id": "6k37jiSN3rVt"
      }
    },
    {
      "cell_type": "code",
      "source": [
        "history = model.fit(partial_x_train,\n",
        "                    partial_y_train,\n",
        "                    epochs=20,\n",
        "                    batch_size=512,\n",
        "                    validation_data=(x_val, y_val))\n",
        "     "
      ],
      "metadata": {
        "colab": {
          "base_uri": "https://localhost:8080/"
        },
        "id": "HlyPJo8q3p5N",
        "outputId": "6d531d2a-ddd1-47ce-d253-2e5f1132ed6a"
      },
      "execution_count": 8,
      "outputs": [
        {
          "output_type": "stream",
          "name": "stdout",
          "text": [
            "Epoch 1/20\n",
            "30/30 [==============================] - 2s 48ms/step - loss: 0.5364 - accuracy: 0.7726 - val_loss: 0.4130 - val_accuracy: 0.8625\n",
            "Epoch 2/20\n",
            "30/30 [==============================] - 1s 21ms/step - loss: 0.3395 - accuracy: 0.8901 - val_loss: 0.3242 - val_accuracy: 0.8821\n",
            "Epoch 3/20\n",
            "30/30 [==============================] - 1s 26ms/step - loss: 0.2523 - accuracy: 0.9203 - val_loss: 0.2895 - val_accuracy: 0.8886\n",
            "Epoch 4/20\n",
            "30/30 [==============================] - 1s 27ms/step - loss: 0.2052 - accuracy: 0.9323 - val_loss: 0.2764 - val_accuracy: 0.8889\n",
            "Epoch 5/20\n",
            "30/30 [==============================] - 1s 21ms/step - loss: 0.1713 - accuracy: 0.9449 - val_loss: 0.2780 - val_accuracy: 0.8876\n",
            "Epoch 6/20\n",
            "30/30 [==============================] - 1s 21ms/step - loss: 0.1438 - accuracy: 0.9541 - val_loss: 0.2812 - val_accuracy: 0.8852\n",
            "Epoch 7/20\n",
            "30/30 [==============================] - 1s 21ms/step - loss: 0.1247 - accuracy: 0.9608 - val_loss: 0.3353 - val_accuracy: 0.8732\n",
            "Epoch 8/20\n",
            "30/30 [==============================] - 1s 21ms/step - loss: 0.1087 - accuracy: 0.9662 - val_loss: 0.3057 - val_accuracy: 0.8821\n",
            "Epoch 9/20\n",
            "30/30 [==============================] - 1s 20ms/step - loss: 0.0929 - accuracy: 0.9728 - val_loss: 0.3224 - val_accuracy: 0.8847\n",
            "Epoch 10/20\n",
            "30/30 [==============================] - 1s 29ms/step - loss: 0.0801 - accuracy: 0.9785 - val_loss: 0.3424 - val_accuracy: 0.8809\n",
            "Epoch 11/20\n",
            "30/30 [==============================] - 1s 30ms/step - loss: 0.0688 - accuracy: 0.9825 - val_loss: 0.3566 - val_accuracy: 0.8810\n",
            "Epoch 12/20\n",
            "30/30 [==============================] - 1s 29ms/step - loss: 0.0599 - accuracy: 0.9855 - val_loss: 0.3732 - val_accuracy: 0.8793\n",
            "Epoch 13/20\n",
            "30/30 [==============================] - 1s 20ms/step - loss: 0.0499 - accuracy: 0.9888 - val_loss: 0.3924 - val_accuracy: 0.8778\n",
            "Epoch 14/20\n",
            "30/30 [==============================] - 1s 20ms/step - loss: 0.0458 - accuracy: 0.9901 - val_loss: 0.4119 - val_accuracy: 0.8759\n",
            "Epoch 15/20\n",
            "30/30 [==============================] - 1s 21ms/step - loss: 0.0391 - accuracy: 0.9919 - val_loss: 0.4331 - val_accuracy: 0.8761\n",
            "Epoch 16/20\n",
            "30/30 [==============================] - 1s 21ms/step - loss: 0.0342 - accuracy: 0.9923 - val_loss: 0.4601 - val_accuracy: 0.8716\n",
            "Epoch 17/20\n",
            "30/30 [==============================] - 1s 21ms/step - loss: 0.0263 - accuracy: 0.9959 - val_loss: 0.4746 - val_accuracy: 0.8728\n",
            "Epoch 18/20\n",
            "30/30 [==============================] - 1s 26ms/step - loss: 0.0217 - accuracy: 0.9973 - val_loss: 0.5109 - val_accuracy: 0.8706\n",
            "Epoch 19/20\n",
            "30/30 [==============================] - 1s 22ms/step - loss: 0.0201 - accuracy: 0.9979 - val_loss: 0.5306 - val_accuracy: 0.8682\n",
            "Epoch 20/20\n",
            "30/30 [==============================] - 1s 20ms/step - loss: 0.0177 - accuracy: 0.9978 - val_loss: 0.5518 - val_accuracy: 0.8695\n"
          ]
        }
      ]
    },
    {
      "cell_type": "code",
      "source": [
        "\n",
        "history_dict = history.history\n",
        "history_dict.keys()"
      ],
      "metadata": {
        "colab": {
          "base_uri": "https://localhost:8080/"
        },
        "id": "Fue4znlU33vW",
        "outputId": "521cbc7d-d257-4d6f-ebe6-9fdab21e7dd5"
      },
      "execution_count": 9,
      "outputs": [
        {
          "output_type": "execute_result",
          "data": {
            "text/plain": [
              "dict_keys(['loss', 'accuracy', 'val_loss', 'val_accuracy'])"
            ]
          },
          "metadata": {},
          "execution_count": 9
        }
      ]
    },
    {
      "cell_type": "markdown",
      "source": [
        "PLOT OF THE TRAINING AND VALIDATION LOSS"
      ],
      "metadata": {
        "id": "IHqwuPdp38Ej"
      }
    },
    {
      "cell_type": "code",
      "source": [
        "import matplotlib.pyplot as plt\n",
        "history_dict = history.history\n",
        "loss_values = history_dict[\"loss\"]\n",
        "val_loss_values = history_dict[\"val_loss\"]\n",
        "epochs = range(1, len(loss_values) + 1)\n",
        "plt.plot(epochs, loss_values, \"g\", label=\"Training loss\")\n",
        "plt.plot(epochs, val_loss_values, \"BLACK\", label=\"Validation loss\")\n",
        "plt.title(\"Plot of the Training and validation loss\")\n",
        "plt.xlabel(\"Epochs\")\n",
        "plt.ylabel(\"Loss\")\n",
        "plt.legend()\n",
        "plt.show()"
      ],
      "metadata": {
        "colab": {
          "base_uri": "https://localhost:8080/",
          "height": 295
        },
        "id": "2PN3HMze37Sq",
        "outputId": "3466d54a-360b-47e2-d785-9fe3ad08abd5"
      },
      "execution_count": 10,
      "outputs": [
        {
          "output_type": "display_data",
          "data": {
            "text/plain": [
              "<Figure size 432x288 with 1 Axes>"
            ],
            "image/png": "[encoded data removed]"
          },
          "metadata": {
            "needs_background": "light"
          }
        }
      ]
    },
    {
      "cell_type": "code",
      "source": [],
      "metadata": {
        "id": "kLqJSP2b4R-8"
      },
      "execution_count": 10,
      "outputs": []
    },
    {
      "cell_type": "markdown",
      "source": [
        "PLOT OF THE TRAINING AND VALIDATION ACCURACY"
      ],
      "metadata": {
        "id": "7cHQJrVY4TKG"
      }
    },
    {
      "cell_type": "code",
      "source": [
        "\n",
        "plt.clf()\n",
        "acc = history_dict[\"accuracy\"]\n",
        "val_acc = history_dict[\"val_accuracy\"]\n",
        "plt.plot(epochs, acc, \"r\", label=\"Training acc\")\n",
        "plt.plot(epochs, val_acc, \"blue\", label=\"Validation acc\")\n",
        "plt.title(\"Plot of the Training and validation accuracy\")\n",
        "plt.xlabel(\"Epochs\")\n",
        "plt.ylabel(\"Accuracy\")\n",
        "plt.legend()\n",
        "plt.show()"
      ],
      "metadata": {
        "colab": {
          "base_uri": "https://localhost:8080/",
          "height": 295
        },
        "id": "a5AC48IM4Y8F",
        "outputId": "58d4beee-60ab-42df-b04b-7546307f250b"
      },
      "execution_count": 11,
      "outputs": [
        {
          "output_type": "display_data",
          "data": {
            "text/plain": [
              "<Figure size 432x288 with 1 Axes>"
            ],
            "image/png": "[encoded data removed]"
          },
          "metadata": {
            "needs_background": "light"
          }
        }
      ]
    },
    {
      "cell_type": "markdown",
      "source": [
        "Realigning a framework from the ground up with epochs=4"
      ],
      "metadata": {
        "id": "c1GOkrKu4_uP"
      }
    },
    {
      "cell_type": "code",
      "source": [
        "model = keras.Sequential([\n",
        "    layers.Dense(16, activation=\"relu\"),\n",
        "    layers.Dense(16, activation=\"relu\"),\n",
        "    layers.Dense(1, activation=\"sigmoid\")\n",
        "])\n",
        "model.compile(optimizer=\"rmsprop\",\n",
        "              loss=\"binary_crossentropy\",\n",
        "              metrics=[\"accuracy\"])\n",
        "model.fit(x_train, y_train, epochs=4, batch_size=512)\n",
        "results = model.evaluate(x_test, y_test)"
      ],
      "metadata": {
        "colab": {
          "base_uri": "https://localhost:8080/"
        },
        "id": "3BWF2g9B4iq9",
        "outputId": "53c4f7bb-bc59-4df5-b78f-14bc9ca12266"
      },
      "execution_count": 12,
      "outputs": [
        {
          "output_type": "stream",
          "name": "stdout",
          "text": [
            "Epoch 1/4\n",
            "49/49 [==============================] - 2s 16ms/step - loss: 0.5064 - accuracy: 0.8002\n",
            "Epoch 2/4\n",
            "49/49 [==============================] - 1s 16ms/step - loss: 0.3092 - accuracy: 0.8999\n",
            "Epoch 3/4\n",
            "49/49 [==============================] - 1s 22ms/step - loss: 0.2383 - accuracy: 0.9184\n",
            "Epoch 4/4\n",
            "49/49 [==============================] - 1s 26ms/step - loss: 0.2012 - accuracy: 0.9302\n",
            "782/782 [==============================] - 2s 2ms/step - loss: 0.2809 - accuracy: 0.8882\n"
          ]
        }
      ]
    },
    {
      "cell_type": "code",
      "source": [
        "results=model.evaluate(x_test,y_test)"
      ],
      "metadata": {
        "colab": {
          "base_uri": "https://localhost:8080/"
        },
        "id": "2kBJ-Sxx5Lgn",
        "outputId": "d4fa546c-f56b-4430-9b4e-7c82b5a8b94c"
      },
      "execution_count": 13,
      "outputs": [
        {
          "output_type": "stream",
          "name": "stdout",
          "text": [
            "782/782 [==============================] - 2s 2ms/step - loss: 0.2809 - accuracy: 0.8882\n"
          ]
        }
      ]
    },
    {
      "cell_type": "markdown",
      "source": [
        "**The 1st model accuracy was 88.21%**"
      ],
      "metadata": {
        "id": "d3LGaciq4uMo"
      }
    },
    {
      "cell_type": "markdown",
      "source": [
        "USING A TRAINED DATASET TO GENERATE PREDICTIONS ON NEW DATA"
      ],
      "metadata": {
        "id": "bksdX8sC5sQi"
      }
    },
    {
      "cell_type": "code",
      "source": [
        "model.predict(x_test)"
      ],
      "metadata": {
        "colab": {
          "base_uri": "https://localhost:8080/"
        },
        "id": "dFMdh5eX5rLa",
        "outputId": "afa2c0e6-e6df-413a-99ec-92ff2cc2d9a7"
      },
      "execution_count": 14,
      "outputs": [
        {
          "output_type": "stream",
          "name": "stdout",
          "text": [
            "782/782 [==============================] - 2s 2ms/step\n"
          ]
        },
        {
          "output_type": "execute_result",
          "data": {
            "text/plain": [
              "array([[0.21271773],\n",
              "       [0.99682546],\n",
              "       [0.9006525 ],\n",
              "       ...,\n",
              "       [0.12697908],\n",
              "       [0.11010902],\n",
              "       [0.65141606]], dtype=float32)"
            ]
          },
          "metadata": {},
          "execution_count": 14
        }
      ]
    },
    {
      "cell_type": "markdown",
      "source": [
        "MODEL 2- 1 HIDDEN LAYER 64 NODES"
      ],
      "metadata": {
        "id": "nxtTMgV95_Sh"
      }
    },
    {
      "cell_type": "code",
      "source": [
        "model = keras.Sequential([\n",
        "    layers.Dense(64,activation='tanh',input_shape=(10000,)),\n",
        "    layers.Dense(1,activation='sigmoid')\n",
        "])\n",
        "\n",
        "model.compile(optimizer='rmsprop',\n",
        "              loss='mse',\n",
        "              metrics=['accuracy'])\n",
        "\n",
        "history2 = model.fit(partial_x_train,\n",
        "                       partial_y_train,\n",
        "                       epochs=50,\n",
        "                       batch_size=512,\n",
        "                       validation_data=(x_val,y_val))"
      ],
      "metadata": {
        "colab": {
          "base_uri": "https://localhost:8080/"
        },
        "id": "7_ZwLgJc5iz6",
        "outputId": "76e3b937-33f2-4636-a3b0-cbea1fbaef96"
      },
      "execution_count": 15,
      "outputs": [
        {
          "output_type": "stream",
          "name": "stdout",
          "text": [
            "Epoch 1/50\n",
            "30/30 [==============================] - 2s 54ms/step - loss: 0.1635 - accuracy: 0.7761 - val_loss: 0.1212 - val_accuracy: 0.8450\n",
            "Epoch 2/50\n",
            "30/30 [==============================] - 1s 35ms/step - loss: 0.0951 - accuracy: 0.8873 - val_loss: 0.1102 - val_accuracy: 0.8480\n",
            "Epoch 3/50\n",
            "30/30 [==============================] - 1s 35ms/step - loss: 0.0762 - accuracy: 0.9079 - val_loss: 0.0876 - val_accuracy: 0.8865\n",
            "Epoch 4/50\n",
            "30/30 [==============================] - 1s 34ms/step - loss: 0.0674 - accuracy: 0.9170 - val_loss: 0.0839 - val_accuracy: 0.8887\n",
            "Epoch 5/50\n",
            "30/30 [==============================] - 1s 34ms/step - loss: 0.0561 - accuracy: 0.9354 - val_loss: 0.0950 - val_accuracy: 0.8700\n",
            "Epoch 6/50\n",
            "30/30 [==============================] - 1s 34ms/step - loss: 0.0533 - accuracy: 0.9366 - val_loss: 0.1040 - val_accuracy: 0.8566\n",
            "Epoch 7/50\n",
            "30/30 [==============================] - 1s 35ms/step - loss: 0.0471 - accuracy: 0.9451 - val_loss: 0.0840 - val_accuracy: 0.8838\n",
            "Epoch 8/50\n",
            "30/30 [==============================] - 1s 35ms/step - loss: 0.0446 - accuracy: 0.9485 - val_loss: 0.0856 - val_accuracy: 0.8837\n",
            "Epoch 9/50\n",
            "30/30 [==============================] - 1s 35ms/step - loss: 0.0386 - accuracy: 0.9563 - val_loss: 0.0884 - val_accuracy: 0.8781\n",
            "Epoch 10/50\n",
            "30/30 [==============================] - 1s 43ms/step - loss: 0.0375 - accuracy: 0.9577 - val_loss: 0.0877 - val_accuracy: 0.8818\n",
            "Epoch 11/50\n",
            "30/30 [==============================] - 1s 41ms/step - loss: 0.0335 - accuracy: 0.9624 - val_loss: 0.0952 - val_accuracy: 0.8722\n",
            "Epoch 12/50\n",
            "30/30 [==============================] - 1s 34ms/step - loss: 0.0315 - accuracy: 0.9649 - val_loss: 0.0893 - val_accuracy: 0.8781\n",
            "Epoch 13/50\n",
            "30/30 [==============================] - 1s 34ms/step - loss: 0.0287 - accuracy: 0.9698 - val_loss: 0.1012 - val_accuracy: 0.8703\n",
            "Epoch 14/50\n",
            "30/30 [==============================] - 1s 34ms/step - loss: 0.0261 - accuracy: 0.9738 - val_loss: 0.1152 - val_accuracy: 0.8500\n",
            "Epoch 15/50\n",
            "30/30 [==============================] - 1s 34ms/step - loss: 0.0266 - accuracy: 0.9716 - val_loss: 0.0926 - val_accuracy: 0.8774\n",
            "Epoch 16/50\n",
            "30/30 [==============================] - 1s 35ms/step - loss: 0.0219 - accuracy: 0.9789 - val_loss: 0.0956 - val_accuracy: 0.8755\n",
            "Epoch 17/50\n",
            "30/30 [==============================] - 1s 34ms/step - loss: 0.0251 - accuracy: 0.9723 - val_loss: 0.0952 - val_accuracy: 0.8766\n",
            "Epoch 18/50\n",
            "30/30 [==============================] - 1s 35ms/step - loss: 0.0193 - accuracy: 0.9827 - val_loss: 0.0962 - val_accuracy: 0.8762\n",
            "Epoch 19/50\n",
            "30/30 [==============================] - 1s 34ms/step - loss: 0.0200 - accuracy: 0.9799 - val_loss: 0.1031 - val_accuracy: 0.8681\n",
            "Epoch 20/50\n",
            "30/30 [==============================] - 1s 34ms/step - loss: 0.0211 - accuracy: 0.9782 - val_loss: 0.0995 - val_accuracy: 0.8741\n",
            "Epoch 21/50\n",
            "30/30 [==============================] - 1s 39ms/step - loss: 0.0144 - accuracy: 0.9879 - val_loss: 0.1126 - val_accuracy: 0.8573\n",
            "Epoch 22/50\n",
            "30/30 [==============================] - 1s 44ms/step - loss: 0.0158 - accuracy: 0.9851 - val_loss: 0.0990 - val_accuracy: 0.8747\n",
            "Epoch 23/50\n",
            "30/30 [==============================] - 1s 37ms/step - loss: 0.0156 - accuracy: 0.9847 - val_loss: 0.1000 - val_accuracy: 0.8746\n",
            "Epoch 24/50\n",
            "30/30 [==============================] - 1s 33ms/step - loss: 0.0167 - accuracy: 0.9833 - val_loss: 0.1044 - val_accuracy: 0.8697\n",
            "Epoch 25/50\n",
            "30/30 [==============================] - 1s 34ms/step - loss: 0.0137 - accuracy: 0.9871 - val_loss: 0.1030 - val_accuracy: 0.8723\n",
            "Epoch 26/50\n",
            "30/30 [==============================] - 1s 35ms/step - loss: 0.0146 - accuracy: 0.9850 - val_loss: 0.1029 - val_accuracy: 0.8736\n",
            "Epoch 27/50\n",
            "30/30 [==============================] - 1s 34ms/step - loss: 0.0134 - accuracy: 0.9872 - val_loss: 0.1029 - val_accuracy: 0.8739\n",
            "Epoch 28/50\n",
            "30/30 [==============================] - 1s 33ms/step - loss: 0.0121 - accuracy: 0.9880 - val_loss: 0.1034 - val_accuracy: 0.8745\n",
            "Epoch 29/50\n",
            "30/30 [==============================] - 1s 34ms/step - loss: 0.0126 - accuracy: 0.9881 - val_loss: 0.1156 - val_accuracy: 0.8623\n",
            "Epoch 30/50\n",
            "30/30 [==============================] - 1s 35ms/step - loss: 0.0093 - accuracy: 0.9920 - val_loss: 0.1061 - val_accuracy: 0.8702\n",
            "Epoch 31/50\n",
            "30/30 [==============================] - 1s 33ms/step - loss: 0.0128 - accuracy: 0.9870 - val_loss: 0.1055 - val_accuracy: 0.8704\n",
            "Epoch 32/50\n",
            "30/30 [==============================] - 1s 34ms/step - loss: 0.0125 - accuracy: 0.9875 - val_loss: 0.1050 - val_accuracy: 0.8724\n",
            "Epoch 33/50\n",
            "30/30 [==============================] - 1s 41ms/step - loss: 0.0103 - accuracy: 0.9899 - val_loss: 0.1147 - val_accuracy: 0.8650\n",
            "Epoch 34/50\n",
            "30/30 [==============================] - 1s 44ms/step - loss: 0.0085 - accuracy: 0.9926 - val_loss: 0.1077 - val_accuracy: 0.8694\n",
            "Epoch 35/50\n",
            "30/30 [==============================] - 1s 37ms/step - loss: 0.0119 - accuracy: 0.9882 - val_loss: 0.1076 - val_accuracy: 0.8696\n",
            "Epoch 36/50\n",
            "30/30 [==============================] - 1s 33ms/step - loss: 0.0110 - accuracy: 0.9886 - val_loss: 0.1068 - val_accuracy: 0.8718\n",
            "Epoch 37/50\n",
            "30/30 [==============================] - 1s 34ms/step - loss: 0.0106 - accuracy: 0.9890 - val_loss: 0.1068 - val_accuracy: 0.8727\n",
            "Epoch 38/50\n",
            "30/30 [==============================] - 1s 34ms/step - loss: 0.0073 - accuracy: 0.9936 - val_loss: 0.1071 - val_accuracy: 0.8734\n",
            "Epoch 39/50\n",
            "30/30 [==============================] - 1s 35ms/step - loss: 0.0121 - accuracy: 0.9874 - val_loss: 0.1075 - val_accuracy: 0.8714\n",
            "Epoch 40/50\n",
            "30/30 [==============================] - 1s 34ms/step - loss: 0.0071 - accuracy: 0.9937 - val_loss: 0.1073 - val_accuracy: 0.8724\n",
            "Epoch 41/50\n",
            "30/30 [==============================] - 1s 34ms/step - loss: 0.0104 - accuracy: 0.9891 - val_loss: 0.1081 - val_accuracy: 0.8710\n",
            "Epoch 42/50\n",
            "30/30 [==============================] - 1s 34ms/step - loss: 0.0070 - accuracy: 0.9937 - val_loss: 0.1078 - val_accuracy: 0.8722\n",
            "Epoch 43/50\n",
            "30/30 [==============================] - 1s 34ms/step - loss: 0.0111 - accuracy: 0.9880 - val_loss: 0.1093 - val_accuracy: 0.8727\n",
            "Epoch 44/50\n",
            "30/30 [==============================] - 1s 34ms/step - loss: 0.0069 - accuracy: 0.9937 - val_loss: 0.1099 - val_accuracy: 0.8706\n",
            "Epoch 45/50\n",
            "30/30 [==============================] - 1s 43ms/step - loss: 0.0101 - accuracy: 0.9891 - val_loss: 0.1085 - val_accuracy: 0.8721\n",
            "Epoch 46/50\n",
            "30/30 [==============================] - 1s 42ms/step - loss: 0.0068 - accuracy: 0.9937 - val_loss: 0.1085 - val_accuracy: 0.8717\n",
            "Epoch 47/50\n",
            "30/30 [==============================] - 1s 34ms/step - loss: 0.0112 - accuracy: 0.9875 - val_loss: 0.1087 - val_accuracy: 0.8709\n",
            "Epoch 48/50\n",
            "30/30 [==============================] - 1s 35ms/step - loss: 0.0067 - accuracy: 0.9937 - val_loss: 0.1097 - val_accuracy: 0.8716\n",
            "Epoch 49/50\n",
            "30/30 [==============================] - 1s 34ms/step - loss: 0.0098 - accuracy: 0.9895 - val_loss: 0.1091 - val_accuracy: 0.8703\n",
            "Epoch 50/50\n",
            "30/30 [==============================] - 1s 34ms/step - loss: 0.0066 - accuracy: 0.9938 - val_loss: 0.1094 - val_accuracy: 0.8710\n"
          ]
        }
      ]
    },
    {
      "cell_type": "markdown",
      "source": [],
      "metadata": {
        "id": "v647on-BRgO5"
      }
    },
    {
      "cell_type": "markdown",
      "source": [],
      "metadata": {
        "id": "Objx6r4vRhmZ"
      }
    },
    {
      "cell_type": "code",
      "source": [
        "history_dict_2 = history2.history"
      ],
      "metadata": {
        "id": "kUwu0LtU6jWA"
      },
      "execution_count": 16,
      "outputs": []
    },
    {
      "cell_type": "markdown",
      "source": [
        "PLOT OF THE TRAINING AND VALIDATION LOSS"
      ],
      "metadata": {
        "id": "2tIrSRP76mJG"
      }
    },
    {
      "cell_type": "code",
      "source": [
        "loss = history_dict_2['loss']\n",
        "val_loss = history_dict_2['val_loss']\n",
        "epochs = range(1, len(loss)+1)\n",
        "plt.plot(epochs, loss, color= \"BLACK\", label= \"Training Loss\")\n",
        "plt.plot(epochs, val_loss, color= \"GREEN\",linestyle= \"dashed\", label= \"Validation Loss\")\n",
        "plt.title(\"Plot of the Training and validation loss\")\n",
        "plt.xlabel(\"Epochs\")\n",
        "plt.ylabel(\"Loss\")\n",
        "plt.legend()\n",
        "plt.show()"
      ],
      "metadata": {
        "colab": {
          "base_uri": "https://localhost:8080/",
          "height": 295
        },
        "id": "r0ohWNoo6r66",
        "outputId": "fdfe841d-c389-4ea7-f66a-414031141c48"
      },
      "execution_count": 17,
      "outputs": [
        {
          "output_type": "display_data",
          "data": {
            "text/plain": [
              "<Figure size 432x288 with 1 Axes>"
            ],
            "image/png": "[encoded data removed]"
          },
          "metadata": {
            "needs_background": "light"
          }
        }
      ]
    },
    {
      "cell_type": "markdown",
      "source": [
        "PLOT OF THE TRAINING AND VALIDATION ACCURACY"
      ],
      "metadata": {
        "id": "AIRPIOx47DdN"
      }
    },
    {
      "cell_type": "code",
      "source": [
        "accuracy = history_dict_2['accuracy']\n",
        "validation_accuracy = history_dict_2['val_accuracy']\n",
        "epochs = range(1, len(accuracy)+1)\n",
        "plt.plot(epochs,accuracy,color=\"red\",label=\"Training Accuracy\")\n",
        "plt.plot(epochs,validation_accuracy, color= \"bLue\", linestyle=\"dashed\",label=\"Validation Accuracy\")\n",
        "plt.title(\"Plot of the Training and validation Accuracy\")\n",
        "plt.xlabel('Epochs')\n",
        "plt.ylabel('Accuracy')\n",
        "plt.legend()\n",
        "plt.show()"
      ],
      "metadata": {
        "colab": {
          "base_uri": "https://localhost:8080/",
          "height": 295
        },
        "id": "dbwIL50G7I1C",
        "outputId": "5ed62c80-cbaa-4ade-d8b3-d58614181db0"
      },
      "execution_count": 18,
      "outputs": [
        {
          "output_type": "display_data",
          "data": {
            "text/plain": [
              "<Figure size 432x288 with 1 Axes>"
            ],
            "image/png": "[encoded data removed]"
          },
          "metadata": {
            "needs_background": "light"
          }
        }
      ]
    },
    {
      "cell_type": "markdown",
      "source": [
        "Realigning a framework from the ground up with epochs=3"
      ],
      "metadata": {
        "id": "fghmfFIL7qBw"
      }
    },
    {
      "cell_type": "code",
      "source": [
        "\n",
        "model = keras.Sequential([\n",
        "    layers.Dense(64,activation='tanh',input_shape=(10000,)),\n",
        "    layers.Dense(1,activation='sigmoid')\n",
        "])\n",
        "\n",
        "model.compile(optimizer='rmsprop',\n",
        "              loss='mse',\n",
        "              metrics=['accuracy'])\n",
        "\n",
        "history_3 = model.fit(x_train,\n",
        "                       y_train,\n",
        "                       epochs=3,\n",
        "                       batch_size=512)  "
      ],
      "metadata": {
        "colab": {
          "base_uri": "https://localhost:8080/"
        },
        "id": "8IgXYmoT7yzF",
        "outputId": "b6c90f3f-2a19-4e7f-e5f9-e4e002bda5be"
      },
      "execution_count": 19,
      "outputs": [
        {
          "output_type": "stream",
          "name": "stdout",
          "text": [
            "Epoch 1/3\n",
            "49/49 [==============================] - 2s 26ms/step - loss: 0.1458 - accuracy: 0.8007\n",
            "Epoch 2/3\n",
            "49/49 [==============================] - 1s 26ms/step - loss: 0.0865 - accuracy: 0.8913\n",
            "Epoch 3/3\n",
            "49/49 [==============================] - 1s 26ms/step - loss: 0.0722 - accuracy: 0.9074\n"
          ]
        }
      ]
    },
    {
      "cell_type": "code",
      "source": [
        "results2= model.evaluate(x_test,y_test)"
      ],
      "metadata": {
        "colab": {
          "base_uri": "https://localhost:8080/"
        },
        "id": "gk3Z7HqV74Zt",
        "outputId": "20094bee-07a7-4eed-a1f8-0810cba06394"
      },
      "execution_count": 20,
      "outputs": [
        {
          "output_type": "stream",
          "name": "stdout",
          "text": [
            "782/782 [==============================] - 2s 3ms/step - loss: 0.0842 - accuracy: 0.8871\n"
          ]
        }
      ]
    },
    {
      "cell_type": "markdown",
      "source": [
        "The 2nd model Accuracy is 88.75%\n",
        "\n",
        "> Indented block\n",
        "\n"
      ],
      "metadata": {
        "id": "0rON2J8B99nE"
      }
    },
    {
      "cell_type": "markdown",
      "source": [
        "MODEL 3 - 2 HIDDEN LAYER 64 NODES"
      ],
      "metadata": {
        "id": "70EM8mfw-UnJ"
      }
    },
    {
      "cell_type": "code",
      "source": [
        "Model = keras.Sequential([\n",
        "    layers.Dense(64,activation='relu',input_shape=(10000,)),\n",
        "    layers.Dropout(rate=0.5),\n",
        "    layers.Dense(64,activation='relu'),\n",
        "    layers.Dropout(rate=0.5),\n",
        "    layers.Dense(1,activation='sigmoid')\n",
        "])\n",
        "\n",
        "model.compile(optimizer='rmsprop',\n",
        "              loss='binary_crossentropy',\n",
        "              metrics=['accuracy'])\n",
        "\n",
        "history4 = model.fit(partial_x_train,\n",
        "                       partial_y_train,\n",
        "                       epochs=50,\n",
        "                       batch_size=256,\n",
        "                       validation_data=(x_val,y_val))\n",
        " "
      ],
      "metadata": {
        "colab": {
          "base_uri": "https://localhost:8080/"
        },
        "id": "E6-h7vfX-IMq",
        "outputId": "e04ff964-235a-4282-dcc2-f10e1857823c"
      },
      "execution_count": 21,
      "outputs": [
        {
          "output_type": "stream",
          "name": "stdout",
          "text": [
            "Epoch 1/50\n",
            "59/59 [==============================] - 2s 31ms/step - loss: 0.2335 - accuracy: 0.9113 - val_loss: 0.2686 - val_accuracy: 0.8939\n",
            "Epoch 2/50\n",
            "59/59 [==============================] - 1s 21ms/step - loss: 0.1746 - accuracy: 0.9387 - val_loss: 0.2601 - val_accuracy: 0.8983\n",
            "Epoch 3/50\n",
            "59/59 [==============================] - 1s 21ms/step - loss: 0.1417 - accuracy: 0.9488 - val_loss: 0.2590 - val_accuracy: 0.9029\n",
            "Epoch 4/50\n",
            "59/59 [==============================] - 1s 21ms/step - loss: 0.1169 - accuracy: 0.9591 - val_loss: 0.3056 - val_accuracy: 0.8901\n",
            "Epoch 5/50\n",
            "59/59 [==============================] - 2s 27ms/step - loss: 0.0938 - accuracy: 0.9685 - val_loss: 0.3349 - val_accuracy: 0.8867\n",
            "Epoch 6/50\n",
            "59/59 [==============================] - 2s 30ms/step - loss: 0.0809 - accuracy: 0.9723 - val_loss: 0.4457 - val_accuracy: 0.8677\n",
            "Epoch 7/50\n",
            "59/59 [==============================] - 1s 21ms/step - loss: 0.0674 - accuracy: 0.9785 - val_loss: 0.3853 - val_accuracy: 0.8856\n",
            "Epoch 8/50\n",
            "59/59 [==============================] - 1s 21ms/step - loss: 0.0619 - accuracy: 0.9795 - val_loss: 0.4178 - val_accuracy: 0.8819\n",
            "Epoch 9/50\n",
            "59/59 [==============================] - 1s 21ms/step - loss: 0.0453 - accuracy: 0.9865 - val_loss: 0.4600 - val_accuracy: 0.8796\n",
            "Epoch 10/50\n",
            "59/59 [==============================] - 1s 21ms/step - loss: 0.0397 - accuracy: 0.9883 - val_loss: 0.5030 - val_accuracy: 0.8799\n",
            "Epoch 11/50\n",
            "59/59 [==============================] - 1s 21ms/step - loss: 0.0332 - accuracy: 0.9902 - val_loss: 0.5321 - val_accuracy: 0.8778\n",
            "Epoch 12/50\n",
            "59/59 [==============================] - 1s 21ms/step - loss: 0.0288 - accuracy: 0.9924 - val_loss: 0.5703 - val_accuracy: 0.8752\n",
            "Epoch 13/50\n",
            "59/59 [==============================] - 1s 21ms/step - loss: 0.0231 - accuracy: 0.9937 - val_loss: 0.6054 - val_accuracy: 0.8731\n",
            "Epoch 14/50\n",
            "59/59 [==============================] - 1s 21ms/step - loss: 0.0221 - accuracy: 0.9939 - val_loss: 0.6379 - val_accuracy: 0.8748\n",
            "Epoch 15/50\n",
            "59/59 [==============================] - 2s 31ms/step - loss: 0.0172 - accuracy: 0.9959 - val_loss: 0.6738 - val_accuracy: 0.8719\n",
            "Epoch 16/50\n",
            "59/59 [==============================] - 1s 22ms/step - loss: 0.0115 - accuracy: 0.9973 - val_loss: 0.7106 - val_accuracy: 0.8699\n",
            "Epoch 17/50\n",
            "59/59 [==============================] - 1s 21ms/step - loss: 0.0150 - accuracy: 0.9966 - val_loss: 0.7370 - val_accuracy: 0.8713\n",
            "Epoch 18/50\n",
            "59/59 [==============================] - 1s 21ms/step - loss: 0.0170 - accuracy: 0.9950 - val_loss: 0.7703 - val_accuracy: 0.8691\n",
            "Epoch 19/50\n",
            "59/59 [==============================] - 1s 22ms/step - loss: 0.0093 - accuracy: 0.9979 - val_loss: 0.7961 - val_accuracy: 0.8694\n",
            "Epoch 20/50\n",
            "59/59 [==============================] - 1s 21ms/step - loss: 0.0124 - accuracy: 0.9966 - val_loss: 0.8245 - val_accuracy: 0.8694\n",
            "Epoch 21/50\n",
            "59/59 [==============================] - 1s 21ms/step - loss: 0.0095 - accuracy: 0.9977 - val_loss: 0.8488 - val_accuracy: 0.8703\n",
            "Epoch 22/50\n",
            "59/59 [==============================] - 1s 21ms/step - loss: 0.0059 - accuracy: 0.9983 - val_loss: 0.8768 - val_accuracy: 0.8693\n",
            "Epoch 23/50\n",
            "59/59 [==============================] - 1s 21ms/step - loss: 0.0080 - accuracy: 0.9979 - val_loss: 0.9069 - val_accuracy: 0.8703\n",
            "Epoch 24/50\n",
            "59/59 [==============================] - 2s 26ms/step - loss: 0.0092 - accuracy: 0.9974 - val_loss: 0.9305 - val_accuracy: 0.8677\n",
            "Epoch 25/50\n",
            "59/59 [==============================] - 1s 24ms/step - loss: 0.0081 - accuracy: 0.9979 - val_loss: 0.9485 - val_accuracy: 0.8689\n",
            "Epoch 26/50\n",
            "59/59 [==============================] - 1s 21ms/step - loss: 0.0077 - accuracy: 0.9981 - val_loss: 0.9705 - val_accuracy: 0.8678\n",
            "Epoch 27/50\n",
            "59/59 [==============================] - 1s 21ms/step - loss: 0.0016 - accuracy: 1.0000 - val_loss: 1.0234 - val_accuracy: 0.8659\n",
            "Epoch 28/50\n",
            "59/59 [==============================] - 1s 21ms/step - loss: 0.0105 - accuracy: 0.9966 - val_loss: 1.0020 - val_accuracy: 0.8687\n",
            "Epoch 29/50\n",
            "59/59 [==============================] - 1s 20ms/step - loss: 0.0012 - accuracy: 1.0000 - val_loss: 1.0148 - val_accuracy: 0.8692\n",
            "Epoch 30/50\n",
            "59/59 [==============================] - 1s 21ms/step - loss: 0.0067 - accuracy: 0.9979 - val_loss: 1.0264 - val_accuracy: 0.8682\n",
            "Epoch 31/50\n",
            "59/59 [==============================] - 1s 21ms/step - loss: 0.0022 - accuracy: 0.9995 - val_loss: 1.0497 - val_accuracy: 0.8676\n",
            "Epoch 32/50\n",
            "59/59 [==============================] - 1s 21ms/step - loss: 0.0034 - accuracy: 0.9993 - val_loss: 1.0620 - val_accuracy: 0.8676\n",
            "Epoch 33/50\n",
            "59/59 [==============================] - 1s 22ms/step - loss: 0.0018 - accuracy: 0.9998 - val_loss: 1.0756 - val_accuracy: 0.8688\n",
            "Epoch 34/50\n",
            "59/59 [==============================] - 2s 26ms/step - loss: 0.0050 - accuracy: 0.9984 - val_loss: 1.0956 - val_accuracy: 0.8667\n",
            "Epoch 35/50\n",
            "59/59 [==============================] - 1s 23ms/step - loss: 7.5991e-04 - accuracy: 1.0000 - val_loss: 1.1145 - val_accuracy: 0.8690\n",
            "Epoch 36/50\n",
            "59/59 [==============================] - 1s 21ms/step - loss: 8.3515e-04 - accuracy: 1.0000 - val_loss: 1.1184 - val_accuracy: 0.8688\n",
            "Epoch 37/50\n",
            "59/59 [==============================] - 1s 21ms/step - loss: 0.0012 - accuracy: 0.9999 - val_loss: 1.1316 - val_accuracy: 0.8662\n",
            "Epoch 38/50\n",
            "59/59 [==============================] - 1s 21ms/step - loss: 5.9562e-04 - accuracy: 1.0000 - val_loss: 1.1402 - val_accuracy: 0.8671\n",
            "Epoch 39/50\n",
            "59/59 [==============================] - 1s 21ms/step - loss: 5.4218e-04 - accuracy: 1.0000 - val_loss: 1.1576 - val_accuracy: 0.8668\n",
            "Epoch 40/50\n",
            "59/59 [==============================] - 1s 21ms/step - loss: 4.0783e-04 - accuracy: 1.0000 - val_loss: 1.1542 - val_accuracy: 0.8674\n",
            "Epoch 41/50\n",
            "59/59 [==============================] - 1s 21ms/step - loss: 3.5013e-04 - accuracy: 1.0000 - val_loss: 1.1639 - val_accuracy: 0.8655\n",
            "Epoch 42/50\n",
            "59/59 [==============================] - 1s 21ms/step - loss: 3.3042e-04 - accuracy: 1.0000 - val_loss: 1.1684 - val_accuracy: 0.8663\n",
            "Epoch 43/50\n",
            "59/59 [==============================] - 1s 24ms/step - loss: 2.9810e-04 - accuracy: 1.0000 - val_loss: 1.1735 - val_accuracy: 0.8661\n",
            "Epoch 44/50\n",
            "59/59 [==============================] - 2s 30ms/step - loss: 2.7580e-04 - accuracy: 1.0000 - val_loss: 1.1808 - val_accuracy: 0.8661\n",
            "Epoch 45/50\n",
            "59/59 [==============================] - 1s 21ms/step - loss: 2.6063e-04 - accuracy: 1.0000 - val_loss: 1.1864 - val_accuracy: 0.8666\n",
            "Epoch 46/50\n",
            "59/59 [==============================] - 1s 21ms/step - loss: 2.4403e-04 - accuracy: 1.0000 - val_loss: 1.1905 - val_accuracy: 0.8673\n",
            "Epoch 47/50\n",
            "59/59 [==============================] - 1s 21ms/step - loss: 2.2853e-04 - accuracy: 1.0000 - val_loss: 1.1958 - val_accuracy: 0.8668\n",
            "Epoch 48/50\n",
            "59/59 [==============================] - 1s 21ms/step - loss: 2.1927e-04 - accuracy: 1.0000 - val_loss: 1.2018 - val_accuracy: 0.8664\n",
            "Epoch 49/50\n",
            "59/59 [==============================] - 1s 21ms/step - loss: 2.1306e-04 - accuracy: 1.0000 - val_loss: 1.2059 - val_accuracy: 0.8668\n",
            "Epoch 50/50\n",
            "59/59 [==============================] - 1s 21ms/step - loss: 2.0221e-04 - accuracy: 1.0000 - val_loss: 1.2099 - val_accuracy: 0.8667\n"
          ]
        }
      ]
    },
    {
      "cell_type": "code",
      "source": [],
      "metadata": {
        "id": "AcAKPrzm3now"
      },
      "execution_count": null,
      "outputs": []
    },
    {
      "cell_type": "code",
      "source": [],
      "metadata": {
        "id": "lKoyJPQe3wpu"
      },
      "execution_count": null,
      "outputs": []
    },
    {
      "cell_type": "markdown",
      "source": [],
      "metadata": {
        "id": "Qgcmbe5XLH-F"
      }
    },
    {
      "cell_type": "code",
      "source": [
        "\n",
        "history_dict_4 = history4.history"
      ],
      "metadata": {
        "id": "EWztfpSb_7N-"
      },
      "execution_count": 22,
      "outputs": []
    },
    {
      "cell_type": "markdown",
      "source": [
        "PLOT OF THE TRAINING AND VALIDATION LOSS"
      ],
      "metadata": {
        "id": "MJtWi_8m__dC"
      }
    },
    {
      "cell_type": "code",
      "source": [
        "loss = history_dict_4['loss']\n",
        "val_loss = history_dict_4['val_loss']\n",
        "epochs = range(1, len(loss)+1)\n",
        "plt.plot(epochs,loss,color='Black',label='Training Loss')\n",
        "plt.plot(epochs,val_loss,color='green',linestyle='dashed',label='Validation Loss')\n",
        "plt.title(\"Plot of the Training and validation Loss\")\n",
        "plt.xlabel('Epochs')\n",
        "plt.ylabel('Loss')\n",
        "plt.legend()\n",
        "plt.show()"
      ],
      "metadata": {
        "colab": {
          "base_uri": "https://localhost:8080/",
          "height": 295
        },
        "id": "L89Vr3ARAD4b",
        "outputId": "1eabac9a-f83d-4594-ba87-27d15b934a36"
      },
      "execution_count": 23,
      "outputs": [
        {
          "output_type": "display_data",
          "data": {
            "text/plain": [
              "<Figure size 432x288 with 1 Axes>"
            ],
            "image/png": "[encoded data removed]"
          },
          "metadata": {
            "needs_background": "light"
          }
        }
      ]
    },
    {
      "cell_type": "markdown",
      "source": [
        "Plot of the training and validation Accuracy"
      ],
      "metadata": {
        "id": "3iRi2HiZAcOn"
      }
    },
    {
      "cell_type": "code",
      "source": [
        "\n",
        "accuracy = history_dict_4['accuracy']\n",
        "val_accuracy = history_dict_4['val_accuracy']\n",
        "epochs = range(1, len(accuracy)+1)\n",
        "plt.plot(epochs,accuracy,color='red',label='Training Accuracy')\n",
        "plt.plot(epochs,val_accuracy,color='blue',linestyle='dashed',label='Validation Accuracy')\n",
        "plt.title(\"Plot of the Training and validation Loss\")\n",
        "plt.xlabel('Epochs')\n",
        "plt.ylabel('Accuracy')\n",
        "plt.legend()\n",
        "plt.show()"
      ],
      "metadata": {
        "colab": {
          "base_uri": "https://localhost:8080/",
          "height": 295
        },
        "id": "E0eN-smqAWeq",
        "outputId": "834c8a2a-2caf-43c0-b008-f7e989e24fda"
      },
      "execution_count": 24,
      "outputs": [
        {
          "output_type": "display_data",
          "data": {
            "text/plain": [
              "<Figure size 432x288 with 1 Axes>"
            ],
            "image/png": "[encoded data removed]"
          },
          "metadata": {
            "needs_background": "light"
          }
        }
      ]
    },
    {
      "cell_type": "markdown",
      "source": [
        "TRAINING THE MODEL AGAIN WITH 3 EPOCHS"
      ],
      "metadata": {
        "id": "-WlQBbFEA9yR"
      }
    },
    {
      "cell_type": "code",
      "source": [
        "model = keras.Sequential([\n",
        "    layers.Dense(64,activation='relu',input_shape=(10000,)),\n",
        "    layers.Dropout(rate=0.5),\n",
        "    layers.Dense(64,activation='relu'),\n",
        "    layers.Dropout(rate=0.5),\n",
        "    layers.Dense(1,activation='sigmoid')\n",
        "])\n",
        "\n",
        "model.compile(optimizer='rmsprop',\n",
        "              loss='binary_crossentropy',\n",
        "              metrics=['accuracy'])\n",
        "\n",
        "history5 = model.fit(x_train,\n",
        "                       y_train,\n",
        "                       epochs=3,\n",
        "                       batch_size=256)"
      ],
      "metadata": {
        "colab": {
          "base_uri": "https://localhost:8080/"
        },
        "id": "0Jbjn1AmBEix",
        "outputId": "802fc7a9-9b83-4fb0-e19f-cbd162fd757e"
      },
      "execution_count": 25,
      "outputs": [
        {
          "output_type": "stream",
          "name": "stdout",
          "text": [
            "Epoch 1/3\n",
            "98/98 [==============================] - 2s 17ms/step - loss: 0.4521 - accuracy: 0.7918\n",
            "Epoch 2/3\n",
            "98/98 [==============================] - 2s 17ms/step - loss: 0.2649 - accuracy: 0.8994\n",
            "Epoch 3/3\n",
            "98/98 [==============================] - 2s 16ms/step - loss: 0.2056 - accuracy: 0.9231\n"
          ]
        }
      ]
    },
    {
      "cell_type": "code",
      "source": [
        "\n",
        "results4 = model.evaluate(x_test,y_test)"
      ],
      "metadata": {
        "id": "a8OYdn15BPcn",
        "colab": {
          "base_uri": "https://localhost:8080/"
        },
        "outputId": "4fb18c90-a637-4ccb-b4a7-c8b9171a6031"
      },
      "execution_count": 26,
      "outputs": [
        {
          "output_type": "stream",
          "name": "stdout",
          "text": [
            "782/782 [==============================] - 3s 3ms/step - loss: 0.3105 - accuracy: 0.8784\n"
          ]
        }
      ]
    },
    {
      "cell_type": "markdown",
      "source": [
        "The 3rd model built had an accuaracy on the test set of 88.77"
      ],
      "metadata": {
        "id": "8XgZykl3LKQO"
      }
    },
    {
      "cell_type": "markdown",
      "source": [
        "MODEL 4 - HIDDEN LAYERS=1 NODES 32"
      ],
      "metadata": {
        "id": "IrKPJl_2LpGh"
      }
    },
    {
      "cell_type": "code",
      "source": [
        "\n",
        "model = keras.Sequential([\n",
        "    layers.Dense(32,activation='tanh',input_shape=(10000,)),\n",
        "    layers.Dropout(rate=0.3),\n",
        "    layers.Dense(1,activation='sigmoid')\n",
        "])\n",
        "\n",
        "model.compile(optimizer='adam',\n",
        "              loss='mse',\n",
        "              metrics=['accuracy'])\n",
        "\n",
        "history6 = model.fit(partial_x_train,\n",
        "                       partial_y_train,\n",
        "                       epochs=50,\n",
        "                       batch_size=512,\n",
        "                       validation_data=(x_val,y_val))"
      ],
      "metadata": {
        "colab": {
          "base_uri": "https://localhost:8080/"
        },
        "id": "afGom3EDLmID",
        "outputId": "01274f81-82b9-47f0-cb16-c2f7e79cc04d"
      },
      "execution_count": 27,
      "outputs": [
        {
          "output_type": "stream",
          "name": "stdout",
          "text": [
            "Epoch 1/50\n",
            "30/30 [==============================] - 2s 44ms/step - loss: 0.1593 - accuracy: 0.7975 - val_loss: 0.1105 - val_accuracy: 0.8714\n",
            "Epoch 2/50\n",
            "30/30 [==============================] - 1s 26ms/step - loss: 0.0832 - accuracy: 0.9079 - val_loss: 0.0913 - val_accuracy: 0.8870\n",
            "Epoch 3/50\n",
            "30/30 [==============================] - 1s 25ms/step - loss: 0.0615 - accuracy: 0.9359 - val_loss: 0.0855 - val_accuracy: 0.8900\n",
            "Epoch 4/50\n",
            "30/30 [==============================] - 1s 25ms/step - loss: 0.0487 - accuracy: 0.9527 - val_loss: 0.0838 - val_accuracy: 0.8897\n",
            "Epoch 5/50\n",
            "30/30 [==============================] - 1s 25ms/step - loss: 0.0400 - accuracy: 0.9638 - val_loss: 0.0837 - val_accuracy: 0.8859\n",
            "Epoch 6/50\n",
            "30/30 [==============================] - 1s 25ms/step - loss: 0.0332 - accuracy: 0.9727 - val_loss: 0.0844 - val_accuracy: 0.8841\n",
            "Epoch 7/50\n",
            "30/30 [==============================] - 1s 29ms/step - loss: 0.0279 - accuracy: 0.9790 - val_loss: 0.0857 - val_accuracy: 0.8826\n",
            "Epoch 8/50\n",
            "30/30 [==============================] - 1s 25ms/step - loss: 0.0236 - accuracy: 0.9833 - val_loss: 0.0871 - val_accuracy: 0.8793\n",
            "Epoch 9/50\n",
            "30/30 [==============================] - 1s 24ms/step - loss: 0.0200 - accuracy: 0.9867 - val_loss: 0.0885 - val_accuracy: 0.8791\n",
            "Epoch 10/50\n",
            "30/30 [==============================] - 1s 25ms/step - loss: 0.0172 - accuracy: 0.9896 - val_loss: 0.0901 - val_accuracy: 0.8783\n",
            "Epoch 11/50\n",
            "30/30 [==============================] - 1s 34ms/step - loss: 0.0150 - accuracy: 0.9911 - val_loss: 0.0917 - val_accuracy: 0.8773\n",
            "Epoch 12/50\n",
            "30/30 [==============================] - 1s 34ms/step - loss: 0.0129 - accuracy: 0.9931 - val_loss: 0.0933 - val_accuracy: 0.8752\n",
            "Epoch 13/50\n",
            "30/30 [==============================] - 1s 39ms/step - loss: 0.0114 - accuracy: 0.9938 - val_loss: 0.0945 - val_accuracy: 0.8754\n",
            "Epoch 14/50\n",
            "30/30 [==============================] - 1s 37ms/step - loss: 0.0100 - accuracy: 0.9951 - val_loss: 0.0955 - val_accuracy: 0.8740\n",
            "Epoch 15/50\n",
            "30/30 [==============================] - 1s 39ms/step - loss: 0.0089 - accuracy: 0.9958 - val_loss: 0.0966 - val_accuracy: 0.8722\n",
            "Epoch 16/50\n",
            "30/30 [==============================] - 1s 34ms/step - loss: 0.0081 - accuracy: 0.9961 - val_loss: 0.0974 - val_accuracy: 0.8723\n",
            "Epoch 17/50\n",
            "30/30 [==============================] - 1s 38ms/step - loss: 0.0074 - accuracy: 0.9965 - val_loss: 0.0986 - val_accuracy: 0.8721\n",
            "Epoch 18/50\n",
            "30/30 [==============================] - 1s 30ms/step - loss: 0.0067 - accuracy: 0.9967 - val_loss: 0.1001 - val_accuracy: 0.8712\n",
            "Epoch 19/50\n",
            "30/30 [==============================] - 1s 25ms/step - loss: 0.0061 - accuracy: 0.9968 - val_loss: 0.1006 - val_accuracy: 0.8694\n",
            "Epoch 20/50\n",
            "30/30 [==============================] - 1s 30ms/step - loss: 0.0058 - accuracy: 0.9969 - val_loss: 0.1012 - val_accuracy: 0.8689\n",
            "Epoch 21/50\n",
            "30/30 [==============================] - 1s 29ms/step - loss: 0.0054 - accuracy: 0.9970 - val_loss: 0.1021 - val_accuracy: 0.8683\n",
            "Epoch 22/50\n",
            "30/30 [==============================] - 1s 29ms/step - loss: 0.0051 - accuracy: 0.9969 - val_loss: 0.1026 - val_accuracy: 0.8679\n",
            "Epoch 23/50\n",
            "30/30 [==============================] - 1s 26ms/step - loss: 0.0048 - accuracy: 0.9970 - val_loss: 0.1036 - val_accuracy: 0.8669\n",
            "Epoch 24/50\n",
            "30/30 [==============================] - 1s 31ms/step - loss: 0.0045 - accuracy: 0.9971 - val_loss: 0.1041 - val_accuracy: 0.8667\n",
            "Epoch 25/50\n",
            "30/30 [==============================] - 1s 29ms/step - loss: 0.0043 - accuracy: 0.9973 - val_loss: 0.1051 - val_accuracy: 0.8666\n",
            "Epoch 26/50\n",
            "30/30 [==============================] - 1s 27ms/step - loss: 0.0041 - accuracy: 0.9973 - val_loss: 0.1060 - val_accuracy: 0.8667\n",
            "Epoch 27/50\n",
            "30/30 [==============================] - 1s 25ms/step - loss: 0.0038 - accuracy: 0.9975 - val_loss: 0.1069 - val_accuracy: 0.8652\n",
            "Epoch 28/50\n",
            "30/30 [==============================] - 1s 30ms/step - loss: 0.0036 - accuracy: 0.9976 - val_loss: 0.1072 - val_accuracy: 0.8650\n",
            "Epoch 29/50\n",
            "30/30 [==============================] - 1s 29ms/step - loss: 0.0035 - accuracy: 0.9977 - val_loss: 0.1078 - val_accuracy: 0.8654\n",
            "Epoch 30/50\n",
            "30/30 [==============================] - 1s 25ms/step - loss: 0.0033 - accuracy: 0.9977 - val_loss: 0.1083 - val_accuracy: 0.8647\n",
            "Epoch 31/50\n",
            "30/30 [==============================] - 1s 30ms/step - loss: 0.0032 - accuracy: 0.9977 - val_loss: 0.1085 - val_accuracy: 0.8643\n",
            "Epoch 32/50\n",
            "30/30 [==============================] - 1s 30ms/step - loss: 0.0031 - accuracy: 0.9977 - val_loss: 0.1093 - val_accuracy: 0.8647\n",
            "Epoch 33/50\n",
            "30/30 [==============================] - 1s 30ms/step - loss: 0.0030 - accuracy: 0.9978 - val_loss: 0.1095 - val_accuracy: 0.8643\n",
            "Epoch 34/50\n",
            "30/30 [==============================] - 1s 25ms/step - loss: 0.0029 - accuracy: 0.9978 - val_loss: 0.1098 - val_accuracy: 0.8627\n",
            "Epoch 35/50\n",
            "30/30 [==============================] - 1s 29ms/step - loss: 0.0029 - accuracy: 0.9979 - val_loss: 0.1103 - val_accuracy: 0.8634\n",
            "Epoch 36/50\n",
            "30/30 [==============================] - 1s 30ms/step - loss: 0.0028 - accuracy: 0.9979 - val_loss: 0.1106 - val_accuracy: 0.8629\n",
            "Epoch 37/50\n",
            "30/30 [==============================] - 1s 30ms/step - loss: 0.0028 - accuracy: 0.9979 - val_loss: 0.1109 - val_accuracy: 0.8630\n",
            "Epoch 38/50\n",
            "30/30 [==============================] - 1s 31ms/step - loss: 0.0027 - accuracy: 0.9979 - val_loss: 0.1112 - val_accuracy: 0.8627\n",
            "Epoch 39/50\n",
            "30/30 [==============================] - 1s 34ms/step - loss: 0.0027 - accuracy: 0.9979 - val_loss: 0.1115 - val_accuracy: 0.8629\n",
            "Epoch 40/50\n",
            "30/30 [==============================] - 1s 28ms/step - loss: 0.0027 - accuracy: 0.9979 - val_loss: 0.1115 - val_accuracy: 0.8629\n",
            "Epoch 41/50\n",
            "30/30 [==============================] - 1s 26ms/step - loss: 0.0026 - accuracy: 0.9979 - val_loss: 0.1118 - val_accuracy: 0.8632\n",
            "Epoch 42/50\n",
            "30/30 [==============================] - 1s 25ms/step - loss: 0.0026 - accuracy: 0.9979 - val_loss: 0.1121 - val_accuracy: 0.8632\n",
            "Epoch 43/50\n",
            "30/30 [==============================] - 1s 24ms/step - loss: 0.0026 - accuracy: 0.9979 - val_loss: 0.1120 - val_accuracy: 0.8628\n",
            "Epoch 44/50\n",
            "30/30 [==============================] - 1s 30ms/step - loss: 0.0026 - accuracy: 0.9979 - val_loss: 0.1126 - val_accuracy: 0.8629\n",
            "Epoch 45/50\n",
            "30/30 [==============================] - 1s 25ms/step - loss: 0.0025 - accuracy: 0.9979 - val_loss: 0.1127 - val_accuracy: 0.8632\n",
            "Epoch 46/50\n",
            "30/30 [==============================] - 1s 24ms/step - loss: 0.0025 - accuracy: 0.9979 - val_loss: 0.1128 - val_accuracy: 0.8629\n",
            "Epoch 47/50\n",
            "30/30 [==============================] - 1s 30ms/step - loss: 0.0025 - accuracy: 0.9979 - val_loss: 0.1130 - val_accuracy: 0.8633\n",
            "Epoch 48/50\n",
            "30/30 [==============================] - 1s 25ms/step - loss: 0.0025 - accuracy: 0.9979 - val_loss: 0.1131 - val_accuracy: 0.8628\n",
            "Epoch 49/50\n",
            "30/30 [==============================] - 1s 26ms/step - loss: 0.0025 - accuracy: 0.9979 - val_loss: 0.1134 - val_accuracy: 0.8627\n",
            "Epoch 50/50\n",
            "30/30 [==============================] - 1s 24ms/step - loss: 0.0024 - accuracy: 0.9979 - val_loss: 0.1134 - val_accuracy: 0.8629\n"
          ]
        }
      ]
    },
    {
      "cell_type": "code",
      "source": [
        "\n",
        "history_dict_5=history6.history"
      ],
      "metadata": {
        "id": "0rpPctVjMIqc"
      },
      "execution_count": 28,
      "outputs": []
    },
    {
      "cell_type": "markdown",
      "source": [
        "PLOT OF THE TRAINING AND VALIDATION LOSS"
      ],
      "metadata": {
        "id": "FEohDzXSMN7L"
      }
    },
    {
      "cell_type": "code",
      "source": [
        "loss = history_dict_5['loss']\n",
        "val_loss = history_dict_5['val_loss']\n",
        "epochs = range(1, len(loss)+1)\n",
        "plt.plot(epochs,loss,color='black',label='Training Loss')\n",
        "plt.plot(epochs,val_loss,color='green',linestyle='dashed',label='Validation Loss')\n",
        "plt.title(\"Plot of the Training and validation Loss\")\n",
        "plt.xlabel('Epochs')\n",
        "plt.ylabel('Loss')\n",
        "plt.legend()\n",
        "plt.show()"
      ],
      "metadata": {
        "colab": {
          "base_uri": "https://localhost:8080/",
          "height": 295
        },
        "id": "H5LmILJPMRq9",
        "outputId": "67a88505-dea4-412c-f628-e7bee4146a69"
      },
      "execution_count": 29,
      "outputs": [
        {
          "output_type": "display_data",
          "data": {
            "text/plain": [
              "<Figure size 432x288 with 1 Axes>"
            ],
            "image/png": "[encoded data removed]"
          },
          "metadata": {
            "needs_background": "light"
          }
        }
      ]
    },
    {
      "cell_type": "markdown",
      "source": [
        "PLOT OF THE TRAINING AND VALIDATION ACCURACY"
      ],
      "metadata": {
        "id": "8aZYNW2QMzpN"
      }
    },
    {
      "cell_type": "code",
      "source": [
        "accuracy = history_dict_5['accuracy']\n",
        "val_accuracy = history_dict_5['val_accuracy']\n",
        "epochs = range(1, len(accuracy)+1)\n",
        "plt.plot(epochs,accuracy,color='red',label='Training Accuracy')\n",
        "plt.plot(epochs,val_accuracy,color='blue',linestyle='dashed',label='Validation Accuracy')\n",
        "plt.title(\"Plot of the Training and validation Accuracy\")\n",
        "plt.xlabel('Epochs')\n",
        "plt.ylabel('Accuracy')\n",
        "plt.legend()\n",
        "plt.show()"
      ],
      "metadata": {
        "colab": {
          "base_uri": "https://localhost:8080/",
          "height": 295
        },
        "id": "fcXWl3xSM9e3",
        "outputId": "0fd66723-3204-438a-8066-77bc16b67efe"
      },
      "execution_count": 30,
      "outputs": [
        {
          "output_type": "display_data",
          "data": {
            "text/plain": [
              "<Figure size 432x288 with 1 Axes>"
            ],
            "image/png": "[encoded data removed]"
          },
          "metadata": {
            "needs_background": "light"
          }
        }
      ]
    },
    {
      "cell_type": "markdown",
      "source": [
        "REALIGNING THE MODEL WITH 3 EPOCHS"
      ],
      "metadata": {
        "id": "tAsmheaiNO3b"
      }
    },
    {
      "cell_type": "code",
      "source": [
        "model = keras.Sequential([\n",
        "    layers.Dense(32,activation='tanh',input_shape=(10000,)),\n",
        "    layers.Dropout(rate=0.3),\n",
        "    layers.Dense(1,activation='sigmoid')\n",
        "])\n",
        "\n",
        "model.compile(optimizer='adam',\n",
        "              loss='mse',\n",
        "              metrics=['accuracy'])\n",
        "\n",
        "history7 = model.fit(x_train,\n",
        "                       y_train,\n",
        "                       epochs=3,\n",
        "                       batch_size=512)"
      ],
      "metadata": {
        "colab": {
          "base_uri": "https://localhost:8080/"
        },
        "id": "-vfujJLhNXre",
        "outputId": "eb1023da-e0ae-4db3-c54e-c857764fc87e"
      },
      "execution_count": 31,
      "outputs": [
        {
          "output_type": "stream",
          "name": "stdout",
          "text": [
            "Epoch 1/3\n",
            "49/49 [==============================] - 2s 19ms/step - loss: 0.1379 - accuracy: 0.8258\n",
            "Epoch 2/3\n",
            "49/49 [==============================] - 1s 19ms/step - loss: 0.0729 - accuracy: 0.9165\n",
            "Epoch 3/3\n",
            "49/49 [==============================] - 1s 19ms/step - loss: 0.0562 - accuracy: 0.9373\n"
          ]
        }
      ]
    },
    {
      "cell_type": "code",
      "source": [
        "results5 = model.evaluate(x_test,y_test)"
      ],
      "metadata": {
        "colab": {
          "base_uri": "https://localhost:8080/"
        },
        "id": "WSoYtQGiNdg_",
        "outputId": "7ce1d580-2502-4d74-ac0e-52e0c926065a"
      },
      "execution_count": 32,
      "outputs": [
        {
          "output_type": "stream",
          "name": "stdout",
          "text": [
            "782/782 [==============================] - 2s 3ms/step - loss: 0.0850 - accuracy: 0.8859\n"
          ]
        }
      ]
    },
    {
      "cell_type": "markdown",
      "source": [
        "THE 4TH MODEL ACCURACY ON THE TEST SET IS 88.53%"
      ],
      "metadata": {
        "id": "TCV12ksnNjqS"
      }
    },
    {
      "cell_type": "markdown",
      "source": [
        "**MODEL 5 - HIDDEN LAYERS = 2 NODES 16**"
      ],
      "metadata": {
        "id": "f82Zpeg9N68d"
      }
    },
    {
      "cell_type": "code",
      "source": [
        "\n",
        "model = keras.Sequential([\n",
        "    layers.Dense(16,activation='relu',input_shape=(10000,)),\n",
        "    layers.Dropout(rate=0.5),\n",
        "    layers.Dense(16,activation='relu'),\n",
        "    layers.Dropout(rate=0.5),\n",
        "    layers.Dense(1,activation='sigmoid')\n",
        "])\n",
        "\n",
        "model.compile(optimizer='rmsprop',\n",
        "              loss='binary_crossentropy',\n",
        "              metrics=['accuracy'])\n",
        "\n",
        "history8 = model.fit(partial_x_train,\n",
        "                        partial_y_train,\n",
        "                        epochs=20,\n",
        "                        batch_size=512,\n",
        "                        validation_data=(x_val,y_val))"
      ],
      "metadata": {
        "colab": {
          "base_uri": "https://localhost:8080/"
        },
        "id": "jPmZGDJANyNA",
        "outputId": "e6935e3b-d3b4-4da4-ee85-57e932ff20b1"
      },
      "execution_count": 33,
      "outputs": [
        {
          "output_type": "stream",
          "name": "stdout",
          "text": [
            "Epoch 1/20\n",
            "30/30 [==============================] - 5s 87ms/step - loss: 0.6445 - accuracy: 0.6196 - val_loss: 0.5431 - val_accuracy: 0.8451\n",
            "Epoch 2/20\n",
            "30/30 [==============================] - 1s 27ms/step - loss: 0.5283 - accuracy: 0.7589 - val_loss: 0.4252 - val_accuracy: 0.8690\n",
            "Epoch 3/20\n",
            "30/30 [==============================] - 1s 27ms/step - loss: 0.4540 - accuracy: 0.8155 - val_loss: 0.3647 - val_accuracy: 0.8794\n",
            "Epoch 4/20\n",
            "30/30 [==============================] - 1s 27ms/step - loss: 0.3921 - accuracy: 0.8473 - val_loss: 0.3229 - val_accuracy: 0.8827\n",
            "Epoch 5/20\n",
            "30/30 [==============================] - 1s 25ms/step - loss: 0.3390 - accuracy: 0.8793 - val_loss: 0.2897 - val_accuracy: 0.8866\n",
            "Epoch 6/20\n",
            "30/30 [==============================] - 1s 26ms/step - loss: 0.3029 - accuracy: 0.8959 - val_loss: 0.2778 - val_accuracy: 0.8865\n",
            "Epoch 7/20\n",
            "30/30 [==============================] - 1s 28ms/step - loss: 0.2645 - accuracy: 0.9092 - val_loss: 0.2760 - val_accuracy: 0.8882\n",
            "Epoch 8/20\n",
            "30/30 [==============================] - 1s 23ms/step - loss: 0.2362 - accuracy: 0.9245 - val_loss: 0.2768 - val_accuracy: 0.8880\n",
            "Epoch 9/20\n",
            "30/30 [==============================] - 1s 27ms/step - loss: 0.2128 - accuracy: 0.9319 - val_loss: 0.2839 - val_accuracy: 0.8871\n",
            "Epoch 10/20\n",
            "30/30 [==============================] - 1s 21ms/step - loss: 0.1895 - accuracy: 0.9410 - val_loss: 0.2984 - val_accuracy: 0.8875\n",
            "Epoch 11/20\n",
            "30/30 [==============================] - 1s 24ms/step - loss: 0.1693 - accuracy: 0.9467 - val_loss: 0.3203 - val_accuracy: 0.8851\n",
            "Epoch 12/20\n",
            "30/30 [==============================] - 1s 27ms/step - loss: 0.1534 - accuracy: 0.9521 - val_loss: 0.3331 - val_accuracy: 0.8854\n",
            "Epoch 13/20\n",
            "30/30 [==============================] - 1s 31ms/step - loss: 0.1394 - accuracy: 0.9558 - val_loss: 0.3815 - val_accuracy: 0.8822\n",
            "Epoch 14/20\n",
            "30/30 [==============================] - 1s 27ms/step - loss: 0.1294 - accuracy: 0.9602 - val_loss: 0.3665 - val_accuracy: 0.8836\n",
            "Epoch 15/20\n",
            "30/30 [==============================] - 1s 27ms/step - loss: 0.1170 - accuracy: 0.9626 - val_loss: 0.4085 - val_accuracy: 0.8815\n",
            "Epoch 16/20\n",
            "30/30 [==============================] - 1s 24ms/step - loss: 0.1040 - accuracy: 0.9662 - val_loss: 0.4168 - val_accuracy: 0.8853\n",
            "Epoch 17/20\n",
            "30/30 [==============================] - 1s 22ms/step - loss: 0.1006 - accuracy: 0.9699 - val_loss: 0.4363 - val_accuracy: 0.8837\n",
            "Epoch 18/20\n",
            "30/30 [==============================] - 1s 22ms/step - loss: 0.0913 - accuracy: 0.9701 - val_loss: 0.4434 - val_accuracy: 0.8850\n",
            "Epoch 19/20\n",
            "30/30 [==============================] - 1s 21ms/step - loss: 0.0795 - accuracy: 0.9729 - val_loss: 0.4945 - val_accuracy: 0.8848\n",
            "Epoch 20/20\n",
            "30/30 [==============================] - 1s 21ms/step - loss: 0.0783 - accuracy: 0.9727 - val_loss: 0.5067 - val_accuracy: 0.8821\n"
          ]
        }
      ]
    },
    {
      "cell_type": "code",
      "source": [
        "\n",
        "history_dict_6= history8.history"
      ],
      "metadata": {
        "id": "2s52DkcbOLm5"
      },
      "execution_count": 34,
      "outputs": []
    },
    {
      "cell_type": "markdown",
      "source": [
        "PLOT OF THE TRAINING AND VALIDATION LOSS"
      ],
      "metadata": {
        "id": "vMxWSzd3OQVa"
      }
    },
    {
      "cell_type": "code",
      "source": [
        "loss=history_dict_6['loss']\n",
        "val_loss=history_dict_6['val_loss']\n",
        "epochs=range(1,len(loss)+1)\n",
        "plt.plot(epochs,loss,color='black',label='Training Loss')\n",
        "plt.plot(epochs,val_loss,color='green',linestyle='dashed',label='Validation Loss')\n",
        "plt.title(\"Plot of the Training and validation Loss\")\n",
        "plt.xlabel('Epochs')\n",
        "plt.ylabel('Loss')\n",
        "plt.legend()\n",
        "plt.show()\n",
        "     "
      ],
      "metadata": {
        "colab": {
          "base_uri": "https://localhost:8080/",
          "height": 295
        },
        "id": "SQEREZKsOVMx",
        "outputId": "dbdad30c-7044-457f-9a6e-d48843351d71"
      },
      "execution_count": 35,
      "outputs": [
        {
          "output_type": "display_data",
          "data": {
            "text/plain": [
              "<Figure size 432x288 with 1 Axes>"
            ],
            "image/png": "[encoded data removed]"
          },
          "metadata": {
            "needs_background": "light"
          }
        }
      ]
    },
    {
      "cell_type": "markdown",
      "source": [
        "PLOT OF THE TRAINING AND VALIDATION ACCURACY"
      ],
      "metadata": {
        "id": "oQapZO4kOWyn"
      }
    },
    {
      "cell_type": "code",
      "source": [
        "\n",
        "accuracy=history_dict_6['accuracy']\n",
        "val_accuracy=history_dict_6['val_accuracy']\n",
        "epochs=range(1,len(accuracy)+1)\n",
        "plt.plot(epochs,accuracy,color='red',label='Training Acc')\n",
        "plt.plot(epochs,val_accuracy,color='blue',linestyle='dashed',label='Validation Acc')\n",
        "plt.title(\"Plot of the Training and validation Loss\")\n",
        "plt.xlabel('Epochs')\n",
        "plt.ylabel('Acc')\n",
        "plt.legend()\n",
        "plt.show()"
      ],
      "metadata": {
        "colab": {
          "base_uri": "https://localhost:8080/",
          "height": 295
        },
        "id": "mq0J78uIO0Hn",
        "outputId": "acb18840-ca08-451b-adb2-0e15effb7c31"
      },
      "execution_count": 36,
      "outputs": [
        {
          "output_type": "display_data",
          "data": {
            "text/plain": [
              "<Figure size 432x288 with 1 Axes>"
            ],
            "image/png": "[encoded data removed]"
          },
          "metadata": {
            "needs_background": "light"
          }
        }
      ]
    },
    {
      "cell_type": "markdown",
      "source": [
        "REALIGNING THE MODEL WITH 7 EPOCHS"
      ],
      "metadata": {
        "id": "M7hzvu3WPJkU"
      }
    },
    {
      "cell_type": "code",
      "source": [
        "\n",
        "model = keras.Sequential([\n",
        "    layers.Dense(16,activation='relu',input_shape=(10000,)),\n",
        "    layers.Dropout(rate=0.5),\n",
        "    layers.Dense(16,activation='relu'),\n",
        "    layers.Dropout(rate=0.5),\n",
        "    layers.Dense(1,activation='sigmoid')\n",
        "])\n",
        "\n",
        "model.compile(optimizer='rmsprop',\n",
        "              loss='binary_crossentropy',\n",
        "              metrics=['accuracy'])\n",
        "\n",
        "history9 = model.fit(x_train,\n",
        "                        y_train,\n",
        "                        epochs=7,\n",
        "                        batch_size=512)"
      ],
      "metadata": {
        "colab": {
          "base_uri": "https://localhost:8080/"
        },
        "id": "c7_c5ELgPD50",
        "outputId": "f5c080ab-eeba-43d1-be83-accbe253b434"
      },
      "execution_count": 37,
      "outputs": [
        {
          "output_type": "stream",
          "name": "stdout",
          "text": [
            "Epoch 1/7\n",
            "49/49 [==============================] - 2s 18ms/step - loss: 0.5957 - accuracy: 0.6842\n",
            "Epoch 2/7\n",
            "49/49 [==============================] - 1s 16ms/step - loss: 0.4487 - accuracy: 0.8207\n",
            "Epoch 3/7\n",
            "49/49 [==============================] - 1s 16ms/step - loss: 0.3633 - accuracy: 0.8663\n",
            "Epoch 4/7\n",
            "49/49 [==============================] - 1s 16ms/step - loss: 0.3107 - accuracy: 0.8908\n",
            "Epoch 5/7\n",
            "49/49 [==============================] - 1s 16ms/step - loss: 0.2680 - accuracy: 0.9096\n",
            "Epoch 6/7\n",
            "49/49 [==============================] - 1s 16ms/step - loss: 0.2387 - accuracy: 0.9195\n",
            "Epoch 7/7\n",
            "49/49 [==============================] - 1s 16ms/step - loss: 0.2111 - accuracy: 0.9292\n"
          ]
        }
      ]
    },
    {
      "cell_type": "code",
      "source": [
        "results6= model.evaluate(x_test,y_test)"
      ],
      "metadata": {
        "colab": {
          "base_uri": "https://localhost:8080/"
        },
        "id": "XggD-bXFQoPP",
        "outputId": "0e44ee2d-e2a7-4275-8ef0-720d0dfa853a"
      },
      "execution_count": 38,
      "outputs": [
        {
          "output_type": "stream",
          "name": "stdout",
          "text": [
            "782/782 [==============================] - 2s 2ms/step - loss: 0.2899 - accuracy: 0.8863\n"
          ]
        }
      ]
    },
    {
      "cell_type": "markdown",
      "source": [
        "THE 5TH MODEL ACCURACY IS 88.62%"
      ],
      "metadata": {
        "id": "uQd5pLYCQsvt"
      }
    },
    {
      "cell_type": "markdown",
      "source": [
        "MODEL 6 HIDDEN LAYER = 2 NODES 16"
      ],
      "metadata": {
        "id": "eodjOdslRkZ2"
      }
    },
    {
      "cell_type": "code",
      "source": [
        "model = keras.Sequential([\n",
        "    layers.Dense(16,activation='relu',input_shape=(10000,)),\n",
        "    layers.Dropout(rate=0.4),\n",
        "    layers.Dense(16,activation='relu'),\n",
        "    layers.Dropout(rate=0.4),\n",
        "    layers.Dense(1,activation='sigmoid')\n",
        "])\n",
        "\n",
        "model.compile(optimizer='rmsprop',\n",
        "              loss='binary_crossentropy',\n",
        "              metrics=['accuracy'])\n",
        "\n",
        "history10 = model.fit(partial_x_train,\n",
        "                        partial_y_train,\n",
        "                        epochs=20,\n",
        "                        batch_size=512,\n",
        "                        validation_data=(x_val,y_val))"
      ],
      "metadata": {
        "colab": {
          "base_uri": "https://localhost:8080/"
        },
        "id": "dXcV3zBVRwV4",
        "outputId": "292e4c9c-c837-470d-cf41-6a4b6f3c57b4"
      },
      "execution_count": 39,
      "outputs": [
        {
          "output_type": "stream",
          "name": "stdout",
          "text": [
            "Epoch 1/20\n",
            "30/30 [==============================] - 2s 41ms/step - loss: 0.6144 - accuracy: 0.6629 - val_loss: 0.4713 - val_accuracy: 0.8509\n",
            "Epoch 2/20\n",
            "30/30 [==============================] - 1s 21ms/step - loss: 0.4675 - accuracy: 0.7990 - val_loss: 0.3625 - val_accuracy: 0.8753\n",
            "Epoch 3/20\n",
            "30/30 [==============================] - 1s 21ms/step - loss: 0.3814 - accuracy: 0.8538 - val_loss: 0.3087 - val_accuracy: 0.8862\n",
            "Epoch 4/20\n",
            "30/30 [==============================] - 1s 21ms/step - loss: 0.3176 - accuracy: 0.8835 - val_loss: 0.2836 - val_accuracy: 0.8905\n",
            "Epoch 5/20\n",
            "30/30 [==============================] - 1s 21ms/step - loss: 0.2708 - accuracy: 0.9049 - val_loss: 0.2733 - val_accuracy: 0.8913\n",
            "Epoch 6/20\n",
            "30/30 [==============================] - 1s 21ms/step - loss: 0.2292 - accuracy: 0.9229 - val_loss: 0.2726 - val_accuracy: 0.8917\n",
            "Epoch 7/20\n",
            "30/30 [==============================] - 1s 27ms/step - loss: 0.2064 - accuracy: 0.9331 - val_loss: 0.2825 - val_accuracy: 0.8877\n",
            "Epoch 8/20\n",
            "30/30 [==============================] - 1s 21ms/step - loss: 0.1750 - accuracy: 0.9440 - val_loss: 0.2913 - val_accuracy: 0.8878\n",
            "Epoch 9/20\n",
            "30/30 [==============================] - 1s 31ms/step - loss: 0.1534 - accuracy: 0.9529 - val_loss: 0.3108 - val_accuracy: 0.8869\n",
            "Epoch 10/20\n",
            "30/30 [==============================] - 1s 25ms/step - loss: 0.1349 - accuracy: 0.9591 - val_loss: 0.3264 - val_accuracy: 0.8862\n",
            "Epoch 11/20\n",
            "30/30 [==============================] - 1s 25ms/step - loss: 0.1183 - accuracy: 0.9659 - val_loss: 0.3457 - val_accuracy: 0.8858\n",
            "Epoch 12/20\n",
            "30/30 [==============================] - 1s 21ms/step - loss: 0.1040 - accuracy: 0.9691 - val_loss: 0.3558 - val_accuracy: 0.8808\n",
            "Epoch 13/20\n",
            "30/30 [==============================] - 1s 21ms/step - loss: 0.0896 - accuracy: 0.9736 - val_loss: 0.4060 - val_accuracy: 0.8855\n",
            "Epoch 14/20\n",
            "30/30 [==============================] - 1s 22ms/step - loss: 0.0813 - accuracy: 0.9755 - val_loss: 0.4264 - val_accuracy: 0.8833\n",
            "Epoch 15/20\n",
            "30/30 [==============================] - 1s 21ms/step - loss: 0.0693 - accuracy: 0.9801 - val_loss: 0.4603 - val_accuracy: 0.8830\n",
            "Epoch 16/20\n",
            "30/30 [==============================] - 1s 21ms/step - loss: 0.0647 - accuracy: 0.9820 - val_loss: 0.4681 - val_accuracy: 0.8836\n",
            "Epoch 17/20\n",
            "30/30 [==============================] - 1s 21ms/step - loss: 0.0532 - accuracy: 0.9851 - val_loss: 0.5274 - val_accuracy: 0.8817\n",
            "Epoch 18/20\n",
            "30/30 [==============================] - 1s 21ms/step - loss: 0.0509 - accuracy: 0.9843 - val_loss: 0.5456 - val_accuracy: 0.8811\n",
            "Epoch 19/20\n",
            "30/30 [==============================] - 1s 20ms/step - loss: 0.0471 - accuracy: 0.9867 - val_loss: 0.5623 - val_accuracy: 0.8785\n",
            "Epoch 20/20\n",
            "30/30 [==============================] - 1s 21ms/step - loss: 0.0420 - accuracy: 0.9871 - val_loss: 0.5890 - val_accuracy: 0.8805\n"
          ]
        }
      ]
    },
    {
      "cell_type": "code",
      "source": [
        "history_dict_7= history10.history"
      ],
      "metadata": {
        "id": "8hCEbG9aR5FZ"
      },
      "execution_count": 40,
      "outputs": []
    },
    {
      "cell_type": "markdown",
      "source": [
        "PLOT OF THE TRAINING AND VALIDATION LOSS"
      ],
      "metadata": {
        "id": "nOP9_dtkR79n"
      }
    },
    {
      "cell_type": "code",
      "source": [
        "\n",
        "loss=history_dict_7['loss']\n",
        "val_loss=history_dict_7['val_loss']\n",
        "epochs=range(1,len(loss)+1)\n",
        "plt.plot(epochs,loss,color='black',label='Training Loss')\n",
        "plt.plot(epochs,val_loss,color='green',linestyle='dashed',label='Validation Loss')\n",
        "plt.title(\"Plot of the Training and validation Loss\")\n",
        "plt.xlabel('Epochs')\n",
        "plt.ylabel('Loss')\n",
        "plt.legend()\n",
        "plt.show()\n",
        "     "
      ],
      "metadata": {
        "colab": {
          "base_uri": "https://localhost:8080/",
          "height": 295
        },
        "id": "vDM-GmSISA9Z",
        "outputId": "2528f92b-7cf6-4dea-f48f-660e374dc08e"
      },
      "execution_count": 41,
      "outputs": [
        {
          "output_type": "display_data",
          "data": {
            "text/plain": [
              "<Figure size 432x288 with 1 Axes>"
            ],
            "image/png": "[encoded data removed]"
          },
          "metadata": {
            "needs_background": "light"
          }
        }
      ]
    },
    {
      "cell_type": "markdown",
      "source": [
        "PLOT OF THE TRAINING AND VALIDATION ACCURACY"
      ],
      "metadata": {
        "id": "PHiX6kXNSN1w"
      }
    },
    {
      "cell_type": "code",
      "source": [
        "accuracy=history_dict_7['accuracy']\n",
        "val_accuracy=history_dict_7['val_accuracy']\n",
        "epochs=range(1,len(accuracy)+1)\n",
        "plt.plot(epochs,accuracy,color='red',label='Training Acc')\n",
        "plt.plot(epochs,val_accuracy,color='blue',linestyle='dashed',label='Validation Acc')\n",
        "plt.title(\"Plot of the Training and validation Accuracy\")\n",
        "plt.xlabel('Epochs')\n",
        "plt.ylabel('Acc')\n",
        "plt.legend()\n",
        "plt.show()"
      ],
      "metadata": {
        "colab": {
          "base_uri": "https://localhost:8080/",
          "height": 295
        },
        "id": "mUoQhlNTSVpj",
        "outputId": "0a2da5d8-9f24-45b3-83b5-7f76d1b9f442"
      },
      "execution_count": 42,
      "outputs": [
        {
          "output_type": "display_data",
          "data": {
            "text/plain": [
              "<Figure size 432x288 with 1 Axes>"
            ],
            "image/png": "[encoded data removed]"
          },
          "metadata": {
            "needs_background": "light"
          }
        }
      ]
    },
    {
      "cell_type": "markdown",
      "source": [
        "REALIGNING THE MODEL WITH 4 EPOCHS"
      ],
      "metadata": {
        "id": "-3Ufb0YBSg_c"
      }
    },
    {
      "cell_type": "code",
      "source": [
        "model = keras.Sequential([\n",
        "    layers.Dense(16,activation='relu',input_shape=(10000,)),\n",
        "    layers.Dropout(rate=0.4),\n",
        "    layers.Dense(16,activation='relu'),\n",
        "    layers.Dropout(rate=0.4),\n",
        "    layers.Dense(1,activation='sigmoid')\n",
        "])\n",
        "\n",
        "model.compile(optimizer='rmsprop',\n",
        "              loss='binary_crossentropy',\n",
        "              metrics=['accuracy'])\n",
        "\n",
        "history11 = model.fit(x_train,\n",
        "                        y_train,\n",
        "                        epochs=4,\n",
        "                        batch_size=512)"
      ],
      "metadata": {
        "colab": {
          "base_uri": "https://localhost:8080/"
        },
        "id": "mDk5BjjTSoQB",
        "outputId": "719b9b6c-cef4-46c2-a9ad-7cea90155f2f"
      },
      "execution_count": 43,
      "outputs": [
        {
          "output_type": "stream",
          "name": "stdout",
          "text": [
            "Epoch 1/4\n",
            "49/49 [==============================] - 2s 16ms/step - loss: 0.5559 - accuracy: 0.7258\n",
            "Epoch 2/4\n",
            "49/49 [==============================] - 1s 17ms/step - loss: 0.3912 - accuracy: 0.8507\n",
            "Epoch 3/4\n",
            "49/49 [==============================] - 1s 20ms/step - loss: 0.3148 - accuracy: 0.8855\n",
            "Epoch 4/4\n",
            "49/49 [==============================] - 1s 20ms/step - loss: 0.2580 - accuracy: 0.9102\n"
          ]
        }
      ]
    },
    {
      "cell_type": "code",
      "source": [
        "results7= model.evaluate(x_test,y_test)"
      ],
      "metadata": {
        "colab": {
          "base_uri": "https://localhost:8080/"
        },
        "id": "-TGoXkQESz97",
        "outputId": "832d08fa-ae66-43e0-fea4-c83c606e4bc2"
      },
      "execution_count": 44,
      "outputs": [
        {
          "output_type": "stream",
          "name": "stdout",
          "text": [
            "782/782 [==============================] - 2s 2ms/step - loss: 0.2734 - accuracy: 0.8888\n"
          ]
        }
      ]
    },
    {
      "cell_type": "markdown",
      "source": [
        "THE 6TH MODEL ACCURACY IS 88.72%"
      ],
      "metadata": {
        "id": "DeIh4IVLS5lr"
      }
    },
    {
      "cell_type": "markdown",
      "source": [
        "EVALUATING THE 6 MODELS TRAINED ON THE IMDB DATA\n"
      ],
      "metadata": {
        "id": "iIHtK7_61Wll"
      }
    },
    {
      "cell_type": "code",
      "source": [
        "loss_dict = {'Model1': 0.2947, 'Model2': 0.0840, 'Model3': 0.2904, 'Model4': 0.0850,\n",
        "             'Model5': 0.3090, 'Model6': 0.2937}\n",
        "\n",
        "# Get model names and loss values as separate lists\n",
        "models = list(loss_dict.keys())\n",
        "losses = list(loss_dict.values())\n",
        "\n",
        "# Plot the scatter plot with labels\n",
        "plt.scatter(models, losses, color='red')\n",
        "plt.title('Performance Loss')\n",
        "plt.ylabel('Loss (%)')\n",
        "\n",
        "for (xi, yi) in zip(models, losses):\n",
        "    plt.text(xi, yi, str(yi), va='bottom', ha='center')\n",
        "\n",
        "plt.show()"
      ],
      "metadata": {
        "colab": {
          "base_uri": "https://localhost:8080/",
          "height": 281
        },
        "id": "Sqe-og4J1Vea",
        "outputId": "0568e79b-bdcc-42e7-bd08-b9dbf6f87cfc"
      },
      "execution_count": 45,
      "outputs": [
        {
          "output_type": "display_data",
          "data": {
            "text/plain": [
              "<Figure size 432x288 with 1 Axes>"
            ],
            "image/png": "[encoded data removed]"
          },
          "metadata": {
            "needs_background": "light"
          }
        }
      ]
    },
    {
      "cell_type": "code",
      "source": [
        "import matplotlib.pyplot as plt\n",
        "\n",
        "# Create a dictionary with model names as keys and accuracy values as values\n",
        "acc_dict = {'Model1': 0.8821, 'Model2': 0.8875, 'Model3': 0.8877, 'Model4': 0.8853,\n",
        "            'Model5': 0.8762, 'Model6': 0.8872}\n",
        "\n",
        "# Get model names and accuracy values as separate lists\n",
        "models = list(acc_dict.keys())\n",
        "accuracy = list(acc_dict.values())\n",
        "\n",
        "# Plot the scatter plot with labels\n",
        "plt.scatter(models, accuracy, color='blue')\n",
        "plt.title('Performance Accuracy')\n",
        "plt.ylabel('Accuracy (%)')\n",
        "\n",
        "for (xi, yi) in zip(models, accuracy):\n",
        "  plt.text(xi, yi, str(yi), va='bottom', ha='center')\n",
        "\n",
        "plt.show()"
      ],
      "metadata": {
        "colab": {
          "base_uri": "https://localhost:8080/",
          "height": 281
        },
        "id": "TB6zEmzp3yui",
        "outputId": "d2612117-5e24-4658-e12c-0d0aa4a847b7"
      },
      "execution_count": 46,
      "outputs": [
        {
          "output_type": "display_data",
          "data": {
            "text/plain": [
              "<Figure size 432x288 with 1 Axes>"
            ],
            "image/png": "[encoded data removed]"
          },
          "metadata": {
            "needs_background": "light"
          }
        }
      ]
    }
  ]
}